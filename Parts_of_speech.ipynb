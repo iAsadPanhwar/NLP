{
  "nbformat": 4,
  "nbformat_minor": 0,
  "metadata": {
    "colab": {
      "provenance": []
    },
    "kernelspec": {
      "name": "python3",
      "display_name": "Python 3"
    },
    "language_info": {
      "name": "python"
    }
  },
  "cells": [
    {
      "cell_type": "code",
      "execution_count": 1,
      "metadata": {
        "id": "VjD5DeMQaYg9"
      },
      "outputs": [],
      "source": [
        "import spacy"
      ]
    },
    {
      "cell_type": "code",
      "source": [
        "nlp = spacy.load('en_core_web_sm')"
      ],
      "metadata": {
        "id": "4pAjDn-Padou"
      },
      "execution_count": 2,
      "outputs": []
    },
    {
      "cell_type": "code",
      "source": [
        "doc = nlp(\"Elon flew to mars yesterday. He carried biryani masala with himself\")"
      ],
      "metadata": {
        "id": "R30GqYYBao7p"
      },
      "execution_count": 3,
      "outputs": []
    },
    {
      "cell_type": "code",
      "source": [
        "for token in doc:\n",
        "  print(token, \"|\", token.pos_, '|', spacy.explain(token.pos_), '|', token.tag_, spacy.explain(token.tag_))"
      ],
      "metadata": {
        "colab": {
          "base_uri": "https://localhost:8080/"
        },
        "id": "L6U50HRJah_i",
        "outputId": "28d3e580-ac92-49c6-bb5d-d7f4caccbaf0"
      },
      "execution_count": 4,
      "outputs": [
        {
          "output_type": "stream",
          "name": "stdout",
          "text": [
            "Elon | PROPN | proper noun | NNP noun, proper singular\n",
            "flew | VERB | verb | VBD verb, past tense\n",
            "to | ADP | adposition | IN conjunction, subordinating or preposition\n",
            "mars | NOUN | noun | NNS noun, plural\n",
            "yesterday | NOUN | noun | NN noun, singular or mass\n",
            ". | PUNCT | punctuation | . punctuation mark, sentence closer\n",
            "He | PRON | pronoun | PRP pronoun, personal\n",
            "carried | VERB | verb | VBD verb, past tense\n",
            "biryani | ADJ | adjective | JJ adjective (English), other noun-modifier (Chinese)\n",
            "masala | NOUN | noun | NN noun, singular or mass\n",
            "with | ADP | adposition | IN conjunction, subordinating or preposition\n",
            "himself | PRON | pronoun | PRP pronoun, personal\n"
          ]
        }
      ]
    },
    {
      "cell_type": "code",
      "source": [
        "doc = nlp(\"Wow! Dr. Strange made 265 million $ on the very first day\")"
      ],
      "metadata": {
        "id": "UVSKR9W6axDK"
      },
      "execution_count": 5,
      "outputs": []
    },
    {
      "cell_type": "code",
      "source": [
        "for token in doc:\n",
        "  print(token, \"|\", token.pos_, \"|\", spacy.explain(token.pos_), \"|\",\n",
        "        \"|\", token.tag_, \"|\", spacy.explain(token.tag_))"
      ],
      "metadata": {
        "colab": {
          "base_uri": "https://localhost:8080/"
        },
        "id": "nv39NRDp95KD",
        "outputId": "4e66ea2b-d707-435f-ddcc-4dfee12628b5"
      },
      "execution_count": 8,
      "outputs": [
        {
          "output_type": "stream",
          "name": "stdout",
          "text": [
            "Wow | INTJ | interjection | | UH | interjection\n",
            "! | PUNCT | punctuation | | . | punctuation mark, sentence closer\n",
            "Dr. | PROPN | proper noun | | NNP | noun, proper singular\n",
            "Strange | PROPN | proper noun | | NNP | noun, proper singular\n",
            "made | VERB | verb | | VBD | verb, past tense\n",
            "265 | NUM | numeral | | CD | cardinal number\n",
            "million | NUM | numeral | | CD | cardinal number\n",
            "$ | NUM | numeral | | CD | cardinal number\n",
            "on | ADP | adposition | | IN | conjunction, subordinating or preposition\n",
            "the | DET | determiner | | DT | determiner\n",
            "very | ADV | adverb | | RB | adverb\n",
            "first | ADJ | adjective | | JJ | adjective (English), other noun-modifier (Chinese)\n",
            "day | NOUN | noun | | NN | noun, singular or mass\n"
          ]
        }
      ]
    },
    {
      "cell_type": "code",
      "source": [
        "doc = nlp(\"He quit the Job\")\n",
        "\n",
        "print(doc[1].text,\"|\", doc[1].tag_, \"|\", spacy.explain(doc[1].tag_))"
      ],
      "metadata": {
        "colab": {
          "base_uri": "https://localhost:8080/"
        },
        "id": "5W5Pnsbn-MK7",
        "outputId": "d9fe5e37-9776-4977-c655-5d08bebe920f"
      },
      "execution_count": 10,
      "outputs": [
        {
          "output_type": "stream",
          "name": "stdout",
          "text": [
            "quit | VBD | verb, past tense\n"
          ]
        }
      ]
    },
    {
      "cell_type": "code",
      "source": [
        "earnings_text=\"\"\"Microsoft Corp. today announced the following results for the quarter ended December 31, 2021, as compared to the corresponding period of last fiscal year:\n",
        "\n",
        "·         Revenue was $51.7 billion and increased 20%\n",
        "·         Operating income was $22.2 billion and increased 24%\n",
        "·         Net income was $18.8 billion and increased 21%\n",
        "·         Diluted earnings per share was $2.48 and increased 22%\n",
        "“Digital technology etc. is the most malleable resource at the world’s disposal to overcome constraints and reimagine everyday work and life,” said Satya Nadella, chairman and chief executive officer of Microsoft. “As tech as a percentage of global GDP continues to increase, we are innovating and investing across diverse and growing markets, with a common underlying technology stack and an operating model that reinforces a common strategy, culture, and sense of purpose.”\n",
        "“Solid commercial execution, represented by strong bookings growth driven by long-term Azure commitments, increased Microsoft Cloud revenue to $22.1 billion, up 32% year over year” said Amy Hood, executive vice president and chief financial officer of Microsoft.\"\"\"\n",
        "\n"
      ],
      "metadata": {
        "id": "ugjcM_Nb_BE3"
      },
      "execution_count": 11,
      "outputs": []
    },
    {
      "cell_type": "code",
      "source": [
        "doc = nlp(earnings_text)"
      ],
      "metadata": {
        "id": "9lt_KM25_hTV"
      },
      "execution_count": 12,
      "outputs": []
    },
    {
      "cell_type": "code",
      "source": [
        "filtered_tokens = []\n",
        "\n",
        "for token in doc:\n",
        "  if token.pos_ not in ['SPACE', 'X', 'PUNCT']:\n",
        "    filtered_tokens.append(token)"
      ],
      "metadata": {
        "id": "oeRGxYGL_qc_"
      },
      "execution_count": 15,
      "outputs": []
    },
    {
      "cell_type": "code",
      "source": [
        "filtered_tokens[:10]"
      ],
      "metadata": {
        "colab": {
          "base_uri": "https://localhost:8080/"
        },
        "id": "9gkxPgxt_5bk",
        "outputId": "53f7b7af-23e9-4234-c1a1-add69d3a08cd"
      },
      "execution_count": 16,
      "outputs": [
        {
          "output_type": "execute_result",
          "data": {
            "text/plain": [
              "[Microsoft,\n",
              " Corp.,\n",
              " today,\n",
              " announced,\n",
              " the,\n",
              " following,\n",
              " results,\n",
              " for,\n",
              " the,\n",
              " quarter]"
            ]
          },
          "metadata": {},
          "execution_count": 16
        }
      ]
    },
    {
      "cell_type": "code",
      "source": [
        "count = doc.count_by(spacy.attrs.POS)\n",
        "count"
      ],
      "metadata": {
        "colab": {
          "base_uri": "https://localhost:8080/"
        },
        "id": "IWYhM4CeAy2w",
        "outputId": "026ecdcf-93ba-4d38-ca0b-db2ea3a6cdc4"
      },
      "execution_count": 17,
      "outputs": [
        {
          "output_type": "execute_result",
          "data": {
            "text/plain": [
              "{96: 13,\n",
              " 92: 46,\n",
              " 100: 24,\n",
              " 90: 9,\n",
              " 85: 16,\n",
              " 93: 16,\n",
              " 97: 27,\n",
              " 98: 1,\n",
              " 84: 20,\n",
              " 103: 10,\n",
              " 87: 6,\n",
              " 99: 5,\n",
              " 89: 12,\n",
              " 86: 3,\n",
              " 94: 3,\n",
              " 95: 2}"
            ]
          },
          "metadata": {},
          "execution_count": 17
        }
      ]
    },
    {
      "cell_type": "code",
      "source": [
        "doc.vocab[96].text"
      ],
      "metadata": {
        "colab": {
          "base_uri": "https://localhost:8080/",
          "height": 36
        },
        "id": "A8LgCvHgBO6R",
        "outputId": "17497ce0-929f-40e2-a475-162500ef62ec"
      },
      "execution_count": 18,
      "outputs": [
        {
          "output_type": "execute_result",
          "data": {
            "text/plain": [
              "'PROPN'"
            ],
            "application/vnd.google.colaboratory.intrinsic+json": {
              "type": "string"
            }
          },
          "metadata": {},
          "execution_count": 18
        }
      ]
    },
    {
      "cell_type": "code",
      "source": [
        "for k, v in count.items():\n",
        "  print(doc.vocab[k].text, \"|\", v)"
      ],
      "metadata": {
        "colab": {
          "base_uri": "https://localhost:8080/"
        },
        "id": "F1hgCdVQBT07",
        "outputId": "b892b560-e6c0-4b37-f2b6-a22b479e002b"
      },
      "execution_count": 19,
      "outputs": [
        {
          "output_type": "stream",
          "name": "stdout",
          "text": [
            "PROPN | 13\n",
            "NOUN | 46\n",
            "VERB | 24\n",
            "DET | 9\n",
            "ADP | 16\n",
            "NUM | 16\n",
            "PUNCT | 27\n",
            "SCONJ | 1\n",
            "ADJ | 20\n",
            "SPACE | 10\n",
            "AUX | 6\n",
            "SYM | 5\n",
            "CCONJ | 12\n",
            "ADV | 3\n",
            "PART | 3\n",
            "PRON | 2\n"
          ]
        }
      ]
    },
    {
      "cell_type": "code",
      "source": [
        "text = 'Inflation rose again in April, continuing a climb that has pushed consumers to the brink and is threatening the economic expansion, the Bureau of Labor Statistics reported Wednesday.\\n\\nThe consumer price index, a broad-based measure of prices for goods and services, increased 8.3% from a year ago, higher than the Dow Jones estimate for an 8.1% gain. That represented a slight ease from Marchâ€™s peak but was still close to the highest level since the summer of 1982.\\n\\nRemoving volatile food and ene'"
      ],
      "metadata": {
        "id": "6b5pk-76Bf58"
      },
      "execution_count": 20,
      "outputs": []
    },
    {
      "cell_type": "code",
      "source": [
        "doc = nlp(text)"
      ],
      "metadata": {
        "id": "L7aBhZ4dCBhg"
      },
      "execution_count": 21,
      "outputs": []
    },
    {
      "cell_type": "code",
      "source": [
        "numerical_count = []\n",
        "noun_count = []\n",
        "\n",
        "for token in doc:\n",
        "  if token.pos_ == \"NOUN\":\n",
        "    noun_count.append(token)\n",
        "  elif token.pos_ == \"NUM\":\n",
        "    numerical_count.append(token)"
      ],
      "metadata": {
        "id": "TH96tvvsCDyp"
      },
      "execution_count": 23,
      "outputs": []
    },
    {
      "cell_type": "code",
      "source": [
        "count = doc.count_by(spacy.attrs.POS)\n",
        "count"
      ],
      "metadata": {
        "colab": {
          "base_uri": "https://localhost:8080/"
        },
        "id": "ujokEtRfCcA1",
        "outputId": "c630f237-50df-435c-f0ad-291feb1b2679"
      },
      "execution_count": 24,
      "outputs": [
        {
          "output_type": "execute_result",
          "data": {
            "text/plain": [
              "{92: 25,\n",
              " 100: 9,\n",
              " 86: 4,\n",
              " 85: 11,\n",
              " 96: 7,\n",
              " 97: 9,\n",
              " 90: 12,\n",
              " 95: 2,\n",
              " 87: 3,\n",
              " 89: 4,\n",
              " 84: 6,\n",
              " 103: 2,\n",
              " 93: 3,\n",
              " 94: 1,\n",
              " 98: 1}"
            ]
          },
          "metadata": {},
          "execution_count": 24
        }
      ]
    },
    {
      "cell_type": "code",
      "source": [
        "for k,v in count.items():\n",
        "  print(doc.vocab[k].text, \"|\", v)"
      ],
      "metadata": {
        "colab": {
          "base_uri": "https://localhost:8080/"
        },
        "id": "GSWfAncCCmIR",
        "outputId": "182ab40d-8c8c-48ba-927b-560130790d98"
      },
      "execution_count": 25,
      "outputs": [
        {
          "output_type": "stream",
          "name": "stdout",
          "text": [
            "NOUN | 25\n",
            "VERB | 9\n",
            "ADV | 4\n",
            "ADP | 11\n",
            "PROPN | 7\n",
            "PUNCT | 9\n",
            "DET | 12\n",
            "PRON | 2\n",
            "AUX | 3\n",
            "CCONJ | 4\n",
            "ADJ | 6\n",
            "SPACE | 2\n",
            "NUM | 3\n",
            "PART | 1\n",
            "SCONJ | 1\n"
          ]
        }
      ]
    },
    {
      "cell_type": "code",
      "source": [],
      "metadata": {
        "id": "j-ty_Kd8CvL7"
      },
      "execution_count": null,
      "outputs": []
    }
  ]
}